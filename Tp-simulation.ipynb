{
 "cells": [
  {
   "attachments": {},
   "cell_type": "markdown",
   "metadata": {},
   "source": [
    "* ## Simulation d’une marche aléatoire\n",
    "1. Simulation d’une marche aléatoire sur une ligne avec probabilité p d’aller à droite et 1 − p d’aller à\n",
    "gauche (Attention aux états de bords). L’intervalle de la marche sera borné f−N; : : : ; 0; : : : ; Mg. Le\n",
    "processus part de l’état initial 0.\n",
    "2. Implémenter un simulateur d’une marche aléatoire en 1 dimension\n",
    "3. Dessinez l’évolution de la marche au cours du temps\n",
    "4. Calculer l’évolution temporel du vecteur de la proportion de temps passé par la chaine de Markov\n",
    "dans chaque état"
   ]
  },
  {
   "cell_type": "code",
   "execution_count": null,
   "metadata": {
    "vscode": {
     "languageId": "plaintext"
    }
   },
   "outputs": [],
   "source": []
  }
 ],
 "metadata": {
  "language_info": {
   "name": "python"
  },
  "orig_nbformat": 4
 },
 "nbformat": 4,
 "nbformat_minor": 2
}
